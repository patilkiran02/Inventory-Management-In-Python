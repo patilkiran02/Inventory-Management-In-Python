{
 "cells": [
  {
   "cell_type": "markdown",
   "id": "4b3b01c0",
   "metadata": {},
   "source": [
    "\n",
    "# Read The Data "
   ]
  },
  {
   "cell_type": "code",
   "execution_count": 72,
   "id": "2ab04001",
   "metadata": {},
   "outputs": [],
   "source": [
    "import json\n",
    "\n",
    "fs=open(\"record.json\",\"r\")\n",
    "r= fs.read()\n",
    "fs.close()\n",
    "\n",
    "records=json.loads(r)"
   ]
  },
  {
   "cell_type": "code",
   "execution_count": 73,
   "id": "a7c23c57",
   "metadata": {},
   "outputs": [
    {
     "data": {
      "text/plain": [
       "{'1001': {'name': 'Choco Cake', 'qn': 27, 'pr': 100},\n",
       " '1002': {'name': 'Milk Cake', 'pr': 800, 'qn': 94},\n",
       " '1003': {'name': 'Drink', 'pr': 85, 'qn': 94},\n",
       " '1004': {'name': 'Candy', 'pr': 5, 'qn': 993},\n",
       " '1005': {'name': 'Pen', 'pr': 20, 'qn': 95},\n",
       " '1006': {'name': 'Phone', 'pr': 50000, 'qn': 9},\n",
       " '1007': {'name': 'Mic', 'pr': 1500, 'qn': 0},\n",
       " '1008': {'name': 'Case', 'pr': 599, 'qn': 3},\n",
       " '1009': {'name': 'Keyboard', 'pr': 1999, 'qn': 8},\n",
       " '1010': {'name': 'milk', 'qn': 29, 'pr': 20},\n",
       " '1011': {'name': 'toy car', 'qn': 200, 'pr': 150},\n",
       " '1012': {'name': 'notebook', 'qn': 300, 'pr': 55},\n",
       " '1013': {'name': 'Book', 'qn': 149, 'pr': 200},\n",
       " '1014': {'name': 'mouse', 'qn': 596, 'pr': 300},\n",
       " '1015': {'name': 'Pencils', 'qn': 476, 'pr': 5}}"
      ]
     },
     "execution_count": 73,
     "metadata": {},
     "output_type": "execute_result"
    }
   ],
   "source": [
    "records"
   ]
  },
  {
   "cell_type": "code",
   "execution_count": 74,
   "id": "f4489b66",
   "metadata": {
    "scrolled": true
   },
   "outputs": [
    {
     "name": "stdout",
     "output_type": "stream",
     "text": [
      "ENTER THE PRODUCT ID =>>1009\n",
      "ENTER THE QULITY ==>2\n",
      "PRODUCT ::-> Keyboard\n",
      "PRICE ::-> 1999\n",
      "AMOUNT ::-> 3998\n"
     ]
    }
   ],
   "source": [
    "\n",
    "user_id=str(input(\"ENTER THE PRODUCT ID =>>\"))\n",
    "user_qulity=int(input(\"ENTER THE QULITY ==>\"))\n",
    "\n",
    "print(\"PRODUCT ::->\",records[user_id][\"name\"])\n",
    "print(\"PRICE ::->\",records[user_id][\"pr\"])\n",
    "print(\"AMOUNT ::->\",records[user_id][\"pr\"] * user_qulity)\n",
    "\n",
    "records[user_id][\"qn\"]= records[user_id][\"qn\"] - user_qulity\n"
   ]
  },
  {
   "cell_type": "markdown",
   "id": "6a70d630",
   "metadata": {},
   "source": [
    "\n",
    "# Update The inventory"
   ]
  },
  {
   "cell_type": "code",
   "execution_count": 75,
   "id": "729018eb",
   "metadata": {},
   "outputs": [],
   "source": [
    "\n",
    "js=json.dumps(records)\n",
    "\n",
    "fs=open(\"record.json\",\"w\")\n",
    "fs.write(js)\n",
    "fs.close()"
   ]
  },
  {
   "cell_type": "code",
   "execution_count": 76,
   "id": "fe55fa52",
   "metadata": {},
   "outputs": [
    {
     "data": {
      "text/plain": [
       "{'1001': {'name': 'Choco Cake', 'qn': 27, 'pr': 100},\n",
       " '1002': {'name': 'Milk Cake', 'pr': 800, 'qn': 94},\n",
       " '1003': {'name': 'Drink', 'pr': 85, 'qn': 94},\n",
       " '1004': {'name': 'Candy', 'pr': 5, 'qn': 993},\n",
       " '1005': {'name': 'Pen', 'pr': 20, 'qn': 95},\n",
       " '1006': {'name': 'Phone', 'pr': 50000, 'qn': 9},\n",
       " '1007': {'name': 'Mic', 'pr': 1500, 'qn': 0},\n",
       " '1008': {'name': 'Case', 'pr': 599, 'qn': 3},\n",
       " '1009': {'name': 'Keyboard', 'pr': 1999, 'qn': 6},\n",
       " '1010': {'name': 'milk', 'qn': 29, 'pr': 20},\n",
       " '1011': {'name': 'toy car', 'qn': 200, 'pr': 150},\n",
       " '1012': {'name': 'notebook', 'qn': 300, 'pr': 55},\n",
       " '1013': {'name': 'Book', 'qn': 149, 'pr': 200},\n",
       " '1014': {'name': 'mouse', 'qn': 596, 'pr': 300},\n",
       " '1015': {'name': 'Pencils', 'qn': 476, 'pr': 5}}"
      ]
     },
     "execution_count": 76,
     "metadata": {},
     "output_type": "execute_result"
    }
   ],
   "source": [
    "records"
   ]
  },
  {
   "cell_type": "markdown",
   "id": "832dad2e",
   "metadata": {},
   "source": [
    "# sales json"
   ]
  },
  {
   "cell_type": "code",
   "execution_count": 77,
   "id": "6a4155ff",
   "metadata": {},
   "outputs": [
    {
     "name": "stdout",
     "output_type": "stream",
     "text": [
      "ENTER THE CUSTOMER ID==>5\n"
     ]
    }
   ],
   "source": [
    "\n",
    "\n",
    "customer_id=str(input(\"ENTER THE CUSTOMER ID==>\"))\n",
    "\n",
    "\n",
    "\n",
    "sell[customer_id]={'prod' : user_id, 'qn' : user_qulity, 'amount': records[user_id]['pr'] *  user_qulity }\n",
    "\n",
    "js=json.dumps(sell)\n",
    "fs=open(\"sales.json\",\"w\")\n",
    "fs.write(js)\n",
    "fs.close()                                                                              \n",
    "                                                                               \n",
    "    \n",
    "    \n",
    "    \n",
    "      \n",
    "    \n",
    "    "
   ]
  },
  {
   "cell_type": "code",
   "execution_count": 78,
   "id": "beb605bd",
   "metadata": {},
   "outputs": [],
   "source": [
    "fs=open(\"sales.json\",\"r\")\n",
    "r= fs.read()\n",
    "fs.close()\n",
    "\n",
    "sales=json.loads(r)\n"
   ]
  },
  {
   "cell_type": "code",
   "execution_count": 79,
   "id": "a185a1f0",
   "metadata": {},
   "outputs": [
    {
     "data": {
      "text/plain": [
       "{'prod': '1002',\n",
       " 'qn': 2,\n",
       " 'amount': 1600,\n",
       " '1': {'prod': '1002', 'qn': 2, 'amount': 1600},\n",
       " '3': {'prod': '1005', 'qn': 3, 'amount': 60},\n",
       " '4': {'prod': '1003', 'qn': 6, 'amount': 510},\n",
       " '5': {'prod': '1009', 'qn': 2, 'amount': 3998}}"
      ]
     },
     "execution_count": 79,
     "metadata": {},
     "output_type": "execute_result"
    }
   ],
   "source": [
    "sales"
   ]
  },
  {
   "cell_type": "code",
   "execution_count": null,
   "id": "0f776fe7",
   "metadata": {},
   "outputs": [],
   "source": []
  },
  {
   "cell_type": "code",
   "execution_count": null,
   "id": "4c98e599",
   "metadata": {},
   "outputs": [],
   "source": []
  }
 ],
 "metadata": {
  "kernelspec": {
   "display_name": "Python 3",
   "language": "python",
   "name": "python3"
  },
  "language_info": {
   "codemirror_mode": {
    "name": "ipython",
    "version": 3
   },
   "file_extension": ".py",
   "mimetype": "text/x-python",
   "name": "python",
   "nbconvert_exporter": "python",
   "pygments_lexer": "ipython3",
   "version": "3.7.11"
  }
 },
 "nbformat": 4,
 "nbformat_minor": 5
}
