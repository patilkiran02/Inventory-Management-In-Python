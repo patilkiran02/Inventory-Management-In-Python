{
 "cells": [
  {
   "cell_type": "markdown",
   "id": "7a3d212e",
   "metadata": {},
   "source": [
    "\n",
    "# Read The Data "
   ]
  },
  {
   "cell_type": "code",
   "execution_count": 167,
   "id": "93c283fa",
   "metadata": {},
   "outputs": [],
   "source": [
    "import json\n",
    "\n",
    "fs=open(\"record.json\",\"r\")\n",
    "r= fs.read()\n",
    "fs.close()\n",
    "\n",
    "records=json.loads(r)"
   ]
  },
  {
   "cell_type": "code",
   "execution_count": 168,
   "id": "f18e28b4",
   "metadata": {},
   "outputs": [
    {
     "data": {
      "text/plain": [
       "{'1001': {'name': 'Choco Cake', 'qn': 25, 'pr': 100},\n",
       " '1002': {'name': 'Milk Cake', 'pr': 800, 'qn': 92},\n",
       " '1003': {'name': 'Drink', 'pr': 85, 'qn': 89},\n",
       " '1004': {'name': 'Candy', 'pr': 5, 'qn': 993},\n",
       " '1005': {'name': 'Pen', 'pr': 20, 'qn': 93},\n",
       " '1006': {'name': 'Phone', 'pr': 50000, 'qn': 6},\n",
       " '1007': {'name': 'Mic', 'pr': 1500, 'qn': 0},\n",
       " '1008': {'name': 'Case', 'pr': 599, 'qn': 0},\n",
       " '1009': {'name': 'Keyboard', 'pr': 1999, 'qn': 6},\n",
       " '1010': {'name': 'milk', 'qn': 25, 'pr': 20},\n",
       " '1011': {'name': 'toy car', 'qn': 199, 'pr': 150},\n",
       " '1012': {'name': 'notebook', 'qn': 295, 'pr': 55},\n",
       " '1013': {'name': 'Book', 'qn': 149, 'pr': 200},\n",
       " '1014': {'name': 'mouse', 'qn': 594, 'pr': 300},\n",
       " '1015': {'name': 'Pencils', 'qn': 476, 'pr': 5},\n",
       " '1016': {'name': 'penciles', 'qn': 30, 'pr': 6}}"
      ]
     },
     "execution_count": 168,
     "metadata": {},
     "output_type": "execute_result"
    }
   ],
   "source": [
    "records"
   ]
  },
  {
   "cell_type": "code",
   "execution_count": 169,
   "id": "5c06830c",
   "metadata": {},
   "outputs": [
    {
     "data": {
      "text/plain": [
       "dict_keys(['1001', '1002', '1003', '1004', '1005', '1006', '1007', '1008', '1009', '1010', '1011', '1012', '1013', '1014', '1015', '1016'])"
      ]
     },
     "execution_count": 169,
     "metadata": {},
     "output_type": "execute_result"
    }
   ],
   "source": [
    "records.keys()"
   ]
  },
  {
   "cell_type": "code",
   "execution_count": 170,
   "id": "f80ef837",
   "metadata": {
    "scrolled": true
   },
   "outputs": [
    {
     "name": "stdout",
     "output_type": "stream",
     "text": [
      "ENTER THE PRODUCT ID =>>1009\n",
      "ENTER THE QULITY ==>3\n",
      "***************************************\n",
      "PRODUCT ::-> Keyboard\n",
      "PRICE ::-> 1999\n",
      "******************************************\n",
      "AMOUNT ::-> 5997\n"
     ]
    }
   ],
   "source": [
    "\n",
    "user_id=str(input(\"ENTER THE PRODUCT ID =>>\"))\n",
    "user_qulity=int(input(\"ENTER THE QULITY ==>\"))\n",
    "\n",
    "\n",
    "if (user_id in records.keys()):\n",
    "    print(\"***************************************\")\n",
    "    print(\"PRODUCT ::->\",records[user_id][\"name\"])\n",
    "    print(\"PRICE ::->\",records[user_id][\"pr\"])\n",
    "    print(\"******************************************\")\n",
    "    print(\"AMOUNT ::->\",records[user_id][\"pr\"] * user_qulity)\n",
    "\n",
    "    records[user_id][\"qn\"]= records[user_id][\"qn\"] - user_qulity\n",
    "else:\n",
    "    print(\"Sorry.......this id not valid\")\n"
   ]
  },
  {
   "cell_type": "markdown",
   "id": "9055db70",
   "metadata": {},
   "source": [
    "\n",
    "\n",
    "# Update The inventory\n"
   ]
  },
  {
   "cell_type": "code",
   "execution_count": 171,
   "id": "f9a5c5f5",
   "metadata": {},
   "outputs": [],
   "source": [
    "\n",
    "js=json.dumps(records)\n",
    "\n",
    "fs=open(\"record.json\",\"w\")\n",
    "fs.write(js)\n",
    "fs.close()"
   ]
  },
  {
   "cell_type": "code",
   "execution_count": 172,
   "id": "c5a14f6f",
   "metadata": {},
   "outputs": [
    {
     "data": {
      "text/plain": [
       "{'1001': {'name': 'Choco Cake', 'qn': 25, 'pr': 100},\n",
       " '1002': {'name': 'Milk Cake', 'pr': 800, 'qn': 92},\n",
       " '1003': {'name': 'Drink', 'pr': 85, 'qn': 89},\n",
       " '1004': {'name': 'Candy', 'pr': 5, 'qn': 993},\n",
       " '1005': {'name': 'Pen', 'pr': 20, 'qn': 93},\n",
       " '1006': {'name': 'Phone', 'pr': 50000, 'qn': 6},\n",
       " '1007': {'name': 'Mic', 'pr': 1500, 'qn': 0},\n",
       " '1008': {'name': 'Case', 'pr': 599, 'qn': 0},\n",
       " '1009': {'name': 'Keyboard', 'pr': 1999, 'qn': 3},\n",
       " '1010': {'name': 'milk', 'qn': 25, 'pr': 20},\n",
       " '1011': {'name': 'toy car', 'qn': 199, 'pr': 150},\n",
       " '1012': {'name': 'notebook', 'qn': 295, 'pr': 55},\n",
       " '1013': {'name': 'Book', 'qn': 149, 'pr': 200},\n",
       " '1014': {'name': 'mouse', 'qn': 594, 'pr': 300},\n",
       " '1015': {'name': 'Pencils', 'qn': 476, 'pr': 5},\n",
       " '1016': {'name': 'penciles', 'qn': 30, 'pr': 6}}"
      ]
     },
     "execution_count": 172,
     "metadata": {},
     "output_type": "execute_result"
    }
   ],
   "source": [
    "records"
   ]
  },
  {
   "cell_type": "markdown",
   "id": "4d7ac21d",
   "metadata": {},
   "source": [
    "# sales json"
   ]
  },
  {
   "cell_type": "code",
   "execution_count": 173,
   "id": "7cdc3ced",
   "metadata": {},
   "outputs": [
    {
     "name": "stdout",
     "output_type": "stream",
     "text": [
      "ENter the numberram\n"
     ]
    }
   ],
   "source": [
    "import time\n",
    "\n",
    "number=input(\"ENTER THE CUSTOMER NAME ==>\")\n",
    "sales[number]={'prod_id' : records[user_id], \"time_pr\" :  time.ctime(), 'bill' :records[user_id][\"pr\"] * user_qulity , 'qn' : user_qulity, 'pr' : records[user_id][\"pr\"], 'pr_name' : records[user_id][\"name\"]}\n",
    "##sales[number] = {'prod_id' : records[user_id], \"time_pr\" :  time.ctime(), 'bill' :records[user_id][\"pr\"] * user_qulity , 'qn' : user_qulity, 'pr' : records[user_id][\"pr\"], 'pr_name' : records[user_id][\"name\"]}\n",
    "\n",
    "##sell[customer_name]={'prod' : user_id, 'qn' : user_qulity, 'amount': records[user_id]['pr'] *  user_qulity ,\"time\" :time.ctime()}\n",
    "js=json.dumps(sales)\n",
    "\n",
    "fs=open(\"sales.json\",\"w\")\n",
    "fs.write(js)\n",
    "fs.close()                                                                              \n",
    "                                                                               \n",
    "    \n",
    "    \n",
    "    \n",
    "      \n",
    "    \n",
    "    "
   ]
  },
  {
   "cell_type": "code",
   "execution_count": 174,
   "id": "d18d52fb",
   "metadata": {},
   "outputs": [],
   "source": [
    "fs=open(\"sales.json\",\"r\")\n",
    "r= fs.read()\n",
    "fs.close()\n",
    "\n",
    "sales=json.loads(r)\n"
   ]
  },
  {
   "cell_type": "code",
   "execution_count": 175,
   "id": "03eb10a0",
   "metadata": {},
   "outputs": [
    {
     "data": {
      "text/plain": [
       "{'2': {'prod_id': {'name': 'Choco Cake', 'qn': 25, 'pr': 100},\n",
       "  'time_pr': 'Tue Sep  7 22:48:55 2021',\n",
       "  'bill': 200,\n",
       "  'qn': 2,\n",
       "  'pr': 100,\n",
       "  'pr_name': 'Choco Cake'},\n",
       " '3': {'prod_id': {'name': 'Phone', 'pr': 50000, 'qn': 6},\n",
       "  'time_pr': 'Tue Sep  7 22:52:00 2021',\n",
       "  'bill': 100000,\n",
       "  'qn': 2,\n",
       "  'pr': 50000,\n",
       "  'pr_name': 'Phone'},\n",
       " 'kiran': {'prod_id': {'name': 'Phone', 'pr': 50000, 'qn': 6},\n",
       "  'time_pr': 'Tue Sep  7 22:53:24 2021',\n",
       "  'bill': 100000,\n",
       "  'qn': 2,\n",
       "  'pr': 50000,\n",
       "  'pr_name': 'Phone'},\n",
       " 'ram': {'prod_id': {'name': 'Keyboard', 'pr': 1999, 'qn': 3},\n",
       "  'time_pr': 'Tue Sep  7 22:53:49 2021',\n",
       "  'bill': 5997,\n",
       "  'qn': 3,\n",
       "  'pr': 1999,\n",
       "  'pr_name': 'Keyboard'}}"
      ]
     },
     "execution_count": 175,
     "metadata": {},
     "output_type": "execute_result"
    }
   ],
   "source": [
    "sales"
   ]
  },
  {
   "cell_type": "code",
   "execution_count": null,
   "id": "583b155a",
   "metadata": {},
   "outputs": [],
   "source": []
  },
  {
   "cell_type": "code",
   "execution_count": null,
   "id": "e4cc7130",
   "metadata": {},
   "outputs": [],
   "source": []
  }
 ],
 "metadata": {
  "kernelspec": {
   "display_name": "Python 3",
   "language": "python",
   "name": "python3"
  },
  "language_info": {
   "codemirror_mode": {
    "name": "ipython",
    "version": 3
   },
   "file_extension": ".py",
   "mimetype": "text/x-python",
   "name": "python",
   "nbconvert_exporter": "python",
   "pygments_lexer": "ipython3",
   "version": "3.7.11"
  }
 },
 "nbformat": 4,
 "nbformat_minor": 5
}
