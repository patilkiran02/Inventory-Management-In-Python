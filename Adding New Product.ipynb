{
 "cells": [
  {
   "cell_type": "markdown",
   "id": "21aa3570",
   "metadata": {},
   "source": [
    "# Read The Json File"
   ]
  },
  {
   "cell_type": "code",
   "execution_count": 25,
   "id": "f1218adf",
   "metadata": {},
   "outputs": [],
   "source": [
    "import json\n",
    "fs=open(\"record.json\",\"r\")\n",
    "\n",
    "r=fs.read()\n",
    "fs.close()"
   ]
  },
  {
   "cell_type": "code",
   "execution_count": 26,
   "id": "d0b369a0",
   "metadata": {},
   "outputs": [
    {
     "data": {
      "text/plain": [
       "'{\"1001\": {\"name\": \"Choco Cake\", \"qn\": 30, \"pr\": 100}, \"1002\": {\"name\": \"Milk Cake\", \"pr\": 800, \"qn\": 98}, \"1003\": {\"name\": \"Drink\", \"pr\": 85, \"qn\": 100}, \"1004\": {\"name\": \"Candy\", \"pr\": 5, \"qn\": 993}, \"1005\": {\"name\": \"Pen\", \"pr\": 20, \"qn\": 98}, \"1006\": {\"name\": \"Phone\", \"pr\": 50000, \"qn\": 9}, \"1007\": {\"name\": \"Mic\", \"pr\": 1500, \"qn\": 0}, \"1008\": {\"name\": \"Case\", \"pr\": 599, \"qn\": 3}, \"1009\": {\"name\": \"Keyboard\", \"pr\": 1999, \"qn\": 8}, \"1010\": {\"name\": \"milk\", \"qn\": 29, \"pr\": 20}, \"1011\": {\"name\": \"toy car\", \"qn\": 200, \"pr\": 150}, \"1012\": {\"name\": \"notebook\", \"qn\": 300, \"pr\": 55}, \"1013\": {\"name\": \"Book\", \"qn\": 150, \"pr\": 200}, \"1014\": {\"name\": \"mouse\", \"qn\": 600, \"pr\": 300}}'"
      ]
     },
     "execution_count": 26,
     "metadata": {},
     "output_type": "execute_result"
    }
   ],
   "source": [
    "r"
   ]
  },
  {
   "cell_type": "code",
   "execution_count": 27,
   "id": "fe208f75",
   "metadata": {},
   "outputs": [],
   "source": [
    "record=json.loads(r)"
   ]
  },
  {
   "cell_type": "code",
   "execution_count": 28,
   "id": "8028f702",
   "metadata": {},
   "outputs": [
    {
     "data": {
      "text/plain": [
       "{'1001': {'name': 'Choco Cake', 'qn': 30, 'pr': 100},\n",
       " '1002': {'name': 'Milk Cake', 'pr': 800, 'qn': 98},\n",
       " '1003': {'name': 'Drink', 'pr': 85, 'qn': 100},\n",
       " '1004': {'name': 'Candy', 'pr': 5, 'qn': 993},\n",
       " '1005': {'name': 'Pen', 'pr': 20, 'qn': 98},\n",
       " '1006': {'name': 'Phone', 'pr': 50000, 'qn': 9},\n",
       " '1007': {'name': 'Mic', 'pr': 1500, 'qn': 0},\n",
       " '1008': {'name': 'Case', 'pr': 599, 'qn': 3},\n",
       " '1009': {'name': 'Keyboard', 'pr': 1999, 'qn': 8},\n",
       " '1010': {'name': 'milk', 'qn': 29, 'pr': 20},\n",
       " '1011': {'name': 'toy car', 'qn': 200, 'pr': 150},\n",
       " '1012': {'name': 'notebook', 'qn': 300, 'pr': 55},\n",
       " '1013': {'name': 'Book', 'qn': 150, 'pr': 200},\n",
       " '1014': {'name': 'mouse', 'qn': 600, 'pr': 300}}"
      ]
     },
     "execution_count": 28,
     "metadata": {},
     "output_type": "execute_result"
    }
   ],
   "source": [
    "record"
   ]
  },
  {
   "cell_type": "markdown",
   "id": "077ca0f2",
   "metadata": {},
   "source": [
    "# #Add new item in inventory"
   ]
  },
  {
   "cell_type": "code",
   "execution_count": 29,
   "id": "a8f6aab5",
   "metadata": {},
   "outputs": [
    {
     "name": "stdout",
     "output_type": "stream",
     "text": [
      "ENTER THE PRODUCT ID =>>>1015\n",
      "ENTER THE PRODUCT NAME =>>>Pencils\n",
      "ENTER THE PRODUCT QULITY =>>>500\n",
      "ENTER THE PRODUCT PRICE =>>>5\n"
     ]
    }
   ],
   "source": [
    "\n",
    "prod_id=str(input(\"ENTER THE PRODUCT ID =>>>\"))\n",
    "name=str(input(\"ENTER THE PRODUCT NAME =>>>\"))\n",
    "qulity=int(input(\"ENTER THE PRODUCT QULITY =>>>\"))\n",
    "price=int(input(\"ENTER THE PRODUCT PRICE =>>>\"))\n",
    "\n",
    "\n",
    "\n",
    "record[prod_id]={\"name\":name ,'qn':qulity ,\"pr\":price}\n",
    "\n",
    "js=json.dumps(record)\n",
    "fs=open(\"record.json\",\"w\")\n",
    "fs.write(js)\n",
    "fs.close()\n",
    "\n"
   ]
  },
  {
   "cell_type": "code",
   "execution_count": 30,
   "id": "98044ddc",
   "metadata": {},
   "outputs": [
    {
     "data": {
      "text/plain": [
       "{'1001': {'name': 'Choco Cake', 'qn': 30, 'pr': 100},\n",
       " '1002': {'name': 'Milk Cake', 'pr': 800, 'qn': 98},\n",
       " '1003': {'name': 'Drink', 'pr': 85, 'qn': 100},\n",
       " '1004': {'name': 'Candy', 'pr': 5, 'qn': 993},\n",
       " '1005': {'name': 'Pen', 'pr': 20, 'qn': 98},\n",
       " '1006': {'name': 'Phone', 'pr': 50000, 'qn': 9},\n",
       " '1007': {'name': 'Mic', 'pr': 1500, 'qn': 0},\n",
       " '1008': {'name': 'Case', 'pr': 599, 'qn': 3},\n",
       " '1009': {'name': 'Keyboard', 'pr': 1999, 'qn': 8},\n",
       " '1010': {'name': 'milk', 'qn': 29, 'pr': 20},\n",
       " '1011': {'name': 'toy car', 'qn': 200, 'pr': 150},\n",
       " '1012': {'name': 'notebook', 'qn': 300, 'pr': 55},\n",
       " '1013': {'name': 'Book', 'qn': 150, 'pr': 200},\n",
       " '1014': {'name': 'mouse', 'qn': 600, 'pr': 300},\n",
       " '1015': {'name': 'Pencils', 'qn': 500, 'pr': 5}}"
      ]
     },
     "execution_count": 30,
     "metadata": {},
     "output_type": "execute_result"
    }
   ],
   "source": [
    "record\n"
   ]
  },
  {
   "cell_type": "code",
   "execution_count": null,
   "id": "75fa3e75",
   "metadata": {},
   "outputs": [],
   "source": []
  },
  {
   "cell_type": "code",
   "execution_count": null,
   "id": "c955a0a0",
   "metadata": {},
   "outputs": [],
   "source": []
  },
  {
   "cell_type": "code",
   "execution_count": null,
   "id": "9d5f2062",
   "metadata": {},
   "outputs": [],
   "source": []
  },
  {
   "cell_type": "code",
   "execution_count": null,
   "id": "d3fbe353",
   "metadata": {},
   "outputs": [],
   "source": []
  },
  {
   "cell_type": "code",
   "execution_count": null,
   "id": "9a603571",
   "metadata": {},
   "outputs": [],
   "source": []
  },
  {
   "cell_type": "code",
   "execution_count": null,
   "id": "bd02edff",
   "metadata": {},
   "outputs": [],
   "source": []
  }
 ],
 "metadata": {
  "kernelspec": {
   "display_name": "Python 3",
   "language": "python",
   "name": "python3"
  },
  "language_info": {
   "codemirror_mode": {
    "name": "ipython",
    "version": 3
   },
   "file_extension": ".py",
   "mimetype": "text/x-python",
   "name": "python",
   "nbconvert_exporter": "python",
   "pygments_lexer": "ipython3",
   "version": "3.7.11"
  }
 },
 "nbformat": 4,
 "nbformat_minor": 5
}
